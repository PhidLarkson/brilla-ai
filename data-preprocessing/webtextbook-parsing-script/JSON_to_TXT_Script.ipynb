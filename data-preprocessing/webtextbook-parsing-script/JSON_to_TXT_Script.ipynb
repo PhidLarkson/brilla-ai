{
 "cells": [
  {
   "cell_type": "markdown",
   "metadata": {},
   "source": [
    "# NSMQ - Kwame AI Project\n",
    "\n",
    "###### Title: A script For converting a well structured json file into txt file.\n",
    "###### By: Ernest Samuel, Team member; Data preprocessing Team\n",
    "###### Date: 24-06-2023\n",
    "\n",
    "# Data processing functions\n",
    "\n",
    "The following functions are used to process the data and convert it into a .txt file.\n",
    "\n",
    "* `convert_dict_to_strings()`: This function converts a dictionary of strings to a list of strings.\n",
    "* `convert_list_to_strings()`: This function converts a list of lists to a list of strings.\n",
    "* `extract_and_save_data()`: This function is the main function that reads the JSON file, converts the data, and saves it to a .txt file.\n",
    "\n",
    "The `extract_and_save_data()` function first reads the JSON file. It then gets the folder path and file name of the input file. It then creates a list to store the formatted sections.\n",
    "\n",
    "The function then iterates through the pages and sections in the JSON file. For each section, it creates a formatted section by adding the section title, paragraphs, lists, tables, and figures. The formatted section is then appended to the list of formatted sections.\n",
    "\n",
    "The function then creates the output file name and saves the formatted sections to the file.\n",
    "\n"
   ]
  },
  {
   "cell_type": "code",
   "execution_count": 3,
   "metadata": {},
   "outputs": [],
   "source": [
    "# Data processing funtions\n",
    "\n",
    "def convert_dict_to_strings(dict_of_strings):\n",
    "  \"\"\"\n",
    "  Converts a dictionary of strings to a list of strings.\n",
    "\n",
    "  Args:\n",
    "    dict_of_strings: A dictionary of strings.\n",
    "\n",
    "  Returns:\n",
    "    A list of strings.\n",
    "  \"\"\"\n",
    "  new_list = []\n",
    "  if isinstance(dict_of_strings, dict):\n",
    "    raise TypeError(\"dict_of_strings must not be a dictionary\")\n",
    "\n",
    "  for dic in dict_of_strings: \n",
    "    for key, value in dic.items():\n",
    "      new_list.append(f\"{key}: {value}\")\n",
    "\n",
    "  return new_list\n",
    "\n",
    "\n",
    "def convert_list_to_strings(list_of_lists):\n",
    "  \"\"\"\n",
    "  Converts a list of lists to a list of strings.\n",
    "\n",
    "  Args:\n",
    "    list_of_lists: A list of lists.\n",
    "\n",
    "  Returns:\n",
    "    A list of strings.\n",
    "  \"\"\"\n",
    "  new_list = []\n",
    "  for list_item in list_of_lists:\n",
    "    new_list.append(\"\\n\".join(map(str, list_item)))\n",
    "  return new_list"
   ]
  },
  {
   "cell_type": "code",
   "execution_count": 6,
   "metadata": {},
   "outputs": [],
   "source": [
    "# Main .TXT file convertion function\n",
    "\n",
    "import json\n",
    "import os\n",
    "\n",
    "def extract_and_save_data(input_filename):\n",
    "    # Read the JSON file\n",
    "    with open(input_filename, 'r') as json_file:\n",
    "        data = json.load(json_file)\n",
    "\n",
    "    # Get the folder path and file name\n",
    "    # folder_path, file_name = os.path.split(input_filename)\n",
    "    # base_name, _ = os.path.splitext(file_name)\n",
    "\n",
    "    # Get the directory and base name of the input file\n",
    "    input_dir, base_name = os.path.split(input_filename)\n",
    "    base_name_without_extension, _ = os.path.splitext(base_name)\n",
    "\n",
    "    # Create the output folder if it doesn't exist\n",
    "    output_folder = os.path.join(input_dir, \"output_txt_files\")\n",
    "    os.makedirs(output_folder, exist_ok=True)\n",
    "\n",
    "    # Create a list to store formatted sections\n",
    "    formatted_sections = []\n",
    "\n",
    "    # Iterate through the pages and sections\n",
    "    for page_data in data:\n",
    "        for page_title in page_data.keys():  # Get the page title\n",
    "            # print(page_title)\n",
    "            sections = page_data[page_title]\n",
    "            for section in sections:\n",
    "                formatted_section = f\"__section__\\n**{section['title']}**\\n\"\n",
    "                formatted_section += \"\\n\\n_paragraph_ \\n\".join(section['Section']) + \"\\n\"\n",
    "                #formatted_section += \"\\n**Lists**\\n\"\n",
    "                formatted_section += \"\\n\".join(convert_list_to_strings(section['lists'])) + \"\\n\"\n",
    "                formatted_section += \"\\n**Table**\\n\"\n",
    "                formatted_section += \"\\n\".join(convert_list_to_strings(section['tables'])) + \"\\n\"\n",
    "                formatted_section += \"\\n**Figures**\\n\"\n",
    "                formatted_section += \"\\n\".join(convert_dict_to_strings(section['figures'])) + \"\\n\\n\"\n",
    "                formatted_sections.append(formatted_section)\n",
    "\n",
    "    # Create the output file name\n",
    "    # output_filename = os.path.join(folder_path, f\"{base_name}.txt\")\n",
    "    output_file_name = os.path.join(output_folder, f\"{base_name_without_extension}.txt\")\n",
    "\n",
    "\n",
    "    # Save the formatted sections to a text file\n",
    "    with open(output_file_name, 'w') as output_file:\n",
    "        output_file.write(\"\\n\\n\".join(formatted_sections))\n",
    "\n",
    "    print(f\"{base_name_without_extension} Data extracted and saved as .txt successfully in {output_folder} .\")\n",
    "\n"
   ]
  },
  {
   "cell_type": "markdown",
   "metadata": {},
   "source": [
    "Run Script.\n",
    "NOTE: Make sure the Json file you are runing is the updated version."
   ]
  },
  {
   "cell_type": "code",
   "execution_count": 14,
   "metadata": {},
   "outputs": [
    {
     "name": "stdout",
     "output_type": "stream",
     "text": [
      "College Algebra 2e Data extracted and saved as .txt successfully in output_txt_files .\n"
     ]
    }
   ],
   "source": [
    "# Call the function with the input filename\n",
    "input_filename = 'College Algebra 2e.json'  # Replace with the actual input file name\n",
    "extract_and_save_data(input_filename)\n"
   ]
  }
 ],
 "metadata": {
  "kernelspec": {
   "display_name": "base",
   "language": "python",
   "name": "python3"
  },
  "language_info": {
   "codemirror_mode": {
    "name": "ipython",
    "version": 3
   },
   "file_extension": ".py",
   "mimetype": "text/x-python",
   "name": "python",
   "nbconvert_exporter": "python",
   "pygments_lexer": "ipython3",
   "version": "3.9.16"
  },
  "orig_nbformat": 4
 },
 "nbformat": 4,
 "nbformat_minor": 2
}
