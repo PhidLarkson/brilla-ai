{
 "cells": [
  {
   "cell_type": "markdown",
   "metadata": {},
   "source": [
    "# NSMQ - Kwame AI Project\n",
    "\n",
    "## Title: JSON to Text File Conversion Script\n",
    "### Author: Ernest Samuel\n",
    "### Team: Data Preprocessing Team\n",
    "### Date: June 24, 2023\n",
    "##### Updated: August 24, 2023\n",
    "\n",
    "---\n",
    "\n",
    "## Data Processing Functions\n",
    "\n",
    "This script includes several functions for processing structured JSON data and converting it into a plain text file. Below are the key functions used:\n",
    "\n",
    "### `convert_dict_to_strings()`\n",
    "This function is responsible for converting a dictionary of strings into a list of strings, making data handling more straightforward.\n",
    "\n",
    "### `convert_list_to_strings()`\n",
    "The purpose of this function is to transform a list of lists into a list of strings, enhancing data compatibility.\n",
    "\n",
    "### `extract_and_save_data()`\n",
    "The central function, `extract_and_save_data()`, serves as the core of the script. It performs the following steps:\n",
    "\n",
    "1. Reads the input JSON file, extracting the data contained within.\n",
    "2. Determines the folder path and file name of the input JSON file.\n",
    "3. Initializes a list to store the formatted sections.\n",
    "\n",
    "Next, the function iterates through the JSON file's pages and sections. For each section, it creates a well-structured section by incorporating the section title, paragraphs, lists, tables, and figures. These formatted sections are then appended to the list of formatted sections.\n",
    "\n",
    "Finally, the function generates the output file name and saves the formatted sections into the specified text file."
   ]
  },
  {
   "cell_type": "code",
   "execution_count": 1,
   "metadata": {},
   "outputs": [],
   "source": [
    "# -------- Import libraries --------------- #\n",
    "import json\n",
    "import os\n"
   ]
  },
  {
   "cell_type": "code",
   "execution_count": 6,
   "metadata": {},
   "outputs": [],
   "source": [
    "# Data processing funtions\n",
    "\n",
    "def convert_dict_to_strings(dict_of_strings):\n",
    "  \"\"\"\n",
    "  Converts a dictionary of strings to a list of strings.\n",
    "\n",
    "  Args:\n",
    "    dict_of_strings: A dictionary of strings.\n",
    "\n",
    "  Returns:\n",
    "    A list of strings.\n",
    "  \"\"\"\n",
    "  new_list = []\n",
    "  if isinstance(dict_of_strings, dict):\n",
    "    raise TypeError(\"dict_of_strings must not be a dictionary\")\n",
    "\n",
    "  for dic in dict_of_strings: \n",
    "    for key, value in dic.items():\n",
    "      new_list.append(f\"{key}: {value}\")\n",
    "\n",
    "  return new_list\n",
    "\n",
    "\n",
    "def convert_list_to_strings(list_of_lists):\n",
    "  \"\"\"\n",
    "  Converts a list of lists to a list of strings.\n",
    "\n",
    "  Args:\n",
    "    list_of_lists: A list of lists.\n",
    "\n",
    "  Returns:\n",
    "    A list of strings.\n",
    "  \"\"\"\n",
    "  new_list = []\n",
    "  for list_item in list_of_lists:\n",
    "    new_list.append(\"\\n\".join(map(str, list_item)))\n",
    "  return new_list\n",
    "  "
   ]
  },
  {
   "cell_type": "code",
   "execution_count": 7,
   "metadata": {},
   "outputs": [],
   "source": [
    "# Main .TXT File Conversion Function\n",
    "\n",
    "def extract_and_save_data(input_filename):\n",
    "    \"\"\"\n",
    "    This function extracts structured data from a JSON file, formats it, and saves it as a .txt file.\n",
    "    \n",
    "    Parameters:\n",
    "    input_filename (str): The name of the input JSON file to be processed.\n",
    "    \"\"\"\n",
    "    \n",
    "    # Read the JSON file\n",
    "    with open(input_filename, 'r') as json_file:\n",
    "        data = json.load(json_file)\n",
    "\n",
    "    # Get the directory and base name of the input file\n",
    "    input_dir, base_name = os.path.split(input_filename)\n",
    "    base_name_without_extension, _ = os.path.splitext(base_name)\n",
    "\n",
    "    # Create the output folder if it doesn't exist\n",
    "    output_folder = os.path.join(input_dir, \"output_txt_files\")\n",
    "    os.makedirs(output_folder, exist_ok=True)\n",
    "\n",
    "    # Create a list to store formatted sections\n",
    "    formatted_sections = []\n",
    "\n",
    "    # Iterate through the pages and sections\n",
    "    for page_data in data:\n",
    "        for page_title in page_data.keys():\n",
    "            sections = page_data[page_title]\n",
    "            for section in sections:\n",
    "                formatted_section = f\"__section__\\n**{section['title']}**\\n\"\n",
    "                formatted_section += \"\\n\\n_paragraph_ \\n\".join(section['Section']) + \"\\n\"\n",
    "                formatted_section += \"\\n**Lists**\\n\"\n",
    "                formatted_section += \"\\n\".join(convert_list_to_strings(section['lists'])) + \"\\n\"\n",
    "                formatted_section += \"\\n**Table**\\n\"\n",
    "                formatted_section += \"\\n\".join(convert_list_to_strings(section['tables'])) + \"\\n\"\n",
    "                formatted_section += \"\\n**Figures**\\n\"\n",
    "                formatted_section += \"\\n\".join(convert_dict_to_strings(section['figures'])) + \"\\n\\n\"\n",
    "                formatted_sections.append(formatted_section)\n",
    "\n",
    "    # Create the output file name\n",
    "    output_file_name = os.path.join(output_folder, f\"{base_name_without_extension}.txt\")\n",
    "\n",
    "    # Save the formatted sections to a text file\n",
    "    with open(output_file_name, 'w') as output_file:\n",
    "        output_file.write(\"\\n\\n\".join(formatted_sections))\n",
    "\n",
    "    print(f\"{base_name_without_extension} Data extracted and saved as .txt successfully in {output_folder}.\")\n"
   ]
  },
  {
   "cell_type": "markdown",
   "metadata": {},
   "source": [
    "#### Run Script.\n",
    "\n",
    "NOTE: Make sure the JSON file you are runing generated with `extract_textbook_from_url_notebook_.ipynb`."
   ]
  },
  {
   "cell_type": "code",
   "execution_count": 9,
   "metadata": {},
   "outputs": [
    {
     "name": "stdout",
     "output_type": "stream",
     "text": [
      "Biology 2e Data extracted and saved as .txt successfully in output_txt_files.\n"
     ]
    }
   ],
   "source": [
    "# Call the function with the input filename\n",
    "input_filename = 'Biology 2e.json'  # Replace with the actual input file name\n",
    "extract_and_save_data(input_filename)\n"
   ]
  }
 ],
 "metadata": {
  "kernelspec": {
   "display_name": "base",
   "language": "python",
   "name": "python3"
  },
  "language_info": {
   "codemirror_mode": {
    "name": "ipython",
    "version": 3
   },
   "file_extension": ".py",
   "mimetype": "text/x-python",
   "name": "python",
   "nbconvert_exporter": "python",
   "pygments_lexer": "ipython3",
   "version": "3.9.16"
  },
  "orig_nbformat": 4
 },
 "nbformat": 4,
 "nbformat_minor": 2
}
