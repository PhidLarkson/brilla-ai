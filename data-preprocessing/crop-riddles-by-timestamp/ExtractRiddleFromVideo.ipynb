{
 "cells": [
  {
   "cell_type": "markdown",
   "metadata": {},
   "source": [
    "# NSMQ - Kwame AI Project\n",
    "##### Title: A script For Cropping Videos Based on Timestamps\n",
    "###### By: Ernest Samuel, Team member; Data preprocessing Team\n",
    "###### Date: 05-08-2023\n",
    "\n",
    "This code is a script for cropping videos based on timestamps. It takes two input files: an Excel file containing the timestamps and a directory containing the videos to be cropped. The script first reads the Excel file and creates a Pandas DataFrame containing the timestamps. Then, it iterates through the DataFrame and crops the corresponding videos. The cropped videos are saved in the same directory as the original videos.\n",
    "\n",
    "### The key points of use of this code are:\n",
    "\n",
    "- It can be used to crop videos based on any set of timestamps.\n",
    "- It is easy to use and can be run from the command line.\n",
    "- It is efficient and can crop videos quickly.\n",
    "\n",
    "The code is written in Python and uses the moviepy library. The moviepy library is a powerful library for working with videos in Python. It allows you to read, write, edit, and process videos.\n",
    "\n",
    "To run the code, you will need to install the *moviepy library*. You can do this by running the following command in your terminal:\n",
    "\n",
    "                pip install moviepy\n",
    "\n",
    "Once you have installed the moviepy library, you can run the code by saving it as a Python file and then running it from the command line. For example, if you saved the code as crop_video.py, you could run it by running the following command:\n",
    "\n",
    "                python crop_video.py\n",
    "                \n",
    "This will crop the videos and save them in the same directory as the original videos."
   ]
  },
  {
   "cell_type": "code",
   "execution_count": 2,
   "metadata": {},
   "outputs": [
    {
     "name": "stdout",
     "output_type": "stream",
     "text": [
      "Moviepy - Building video videos\\cropped_00_05_02_00_10_02_testVideo.mp4.\n",
      "MoviePy - Writing audio in cropped_00_05_02_00_10_02_testVideoTEMP_MPY_wvf_snd.mp3\n"
     ]
    },
    {
     "name": "stderr",
     "output_type": "stream",
     "text": [
      "                                                                      \r"
     ]
    },
    {
     "name": "stdout",
     "output_type": "stream",
     "text": [
      "MoviePy - Done.\n",
      "Moviepy - Writing video videos\\cropped_00_05_02_00_10_02_testVideo.mp4\n",
      "\n"
     ]
    },
    {
     "name": "stderr",
     "output_type": "stream",
     "text": [
      "                                                                 \r"
     ]
    },
    {
     "name": "stdout",
     "output_type": "stream",
     "text": [
      "Moviepy - Done !\n",
      "Moviepy - video ready videos\\cropped_00_05_02_00_10_02_testVideo.mp4\n",
      "Video cropped successfully and saved at the same location.\n"
     ]
    }
   ],
   "source": [
    "# Install needed library if not already installed\n",
    "# pip install moviepy\n",
    "\n",
    "from moviepy.video.io.VideoFileClip import VideoFileClip\n",
    "from datetime import datetime\n",
    "import os\n",
    "import pandas as pd\n",
    "\n",
    "def time_to_seconds(time_str):\n",
    "    \"\"\"\n",
    "    Convert a time string in the format \"HH:MM:SS\" to seconds.\n",
    "    \"\"\"\n",
    "    h, m, s = map(int, time_str.split(':'))\n",
    "    return h * 3600 + m * 60 + s\n",
    "\n",
    "\n",
    "def crop_video(input_file, excel_file):\n",
    "    \"\"\"\n",
    "    Crop a video based on the timestamps in the specified Excel file.\n",
    "\n",
    "    Args:\n",
    "        input_file (str): The path to the input video file.\n",
    "        excel_file (str): The path to the Excel file containing the timestamps.\n",
    "    \"\"\"\n",
    "    video_data = pd.read_csv(excel_file)\n",
    "    for _, row in video_data.iterrows():\n",
    "        video_name = row['video_name']\n",
    "        start_time = row['start_time']\n",
    "        stop_time = row['stop_time']\n",
    "\n",
    "        start_seconds = time_to_seconds(start_time)\n",
    "        stop_seconds = time_to_seconds(stop_time)\n",
    "\n",
    "        video_file = os.path.join(input_file, video_name)\n",
    "        #video_clip = VideoFileClip(video_file)\n",
    "        video_clip = VideoFileClip(video_file)\n",
    "        cropped_video = video_clip.subclip(start_seconds, stop_seconds)\n",
    "\n",
    "        output_filename = f\"cropped_{start_time.replace(':', '_')}_{stop_time.replace(':', '_')}_{video_name}\"\n",
    "        output_path = os.path.join(input_file, output_filename)\n",
    "        cropped_video.write_videofile(output_path, codec='libx264')\n",
    "\n",
    "\n",
    "if __name__ == \"__main__\":\n",
    "    excel_file = \"videoTimeStamp.csv\"\n",
    "    input_file = \"videos\"\n",
    "    crop_video(input_file, excel_file)\n",
    "    print(\"Video cropped successfully and saved at the same location.\")\n"
   ]
  }
 ],
 "metadata": {
  "kernelspec": {
   "display_name": "base",
   "language": "python",
   "name": "python3"
  },
  "language_info": {
   "codemirror_mode": {
    "name": "ipython",
    "version": 3
   },
   "file_extension": ".py",
   "mimetype": "text/x-python",
   "name": "python",
   "nbconvert_exporter": "python",
   "pygments_lexer": "ipython3",
   "version": "3.9.16"
  },
  "orig_nbformat": 4
 },
 "nbformat": 4,
 "nbformat_minor": 2
}
