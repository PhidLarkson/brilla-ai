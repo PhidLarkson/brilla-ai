{
 "cells": [
  {
   "cell_type": "markdown",
   "metadata": {},
   "source": [
    "# NSMQ - Kwame AI Project\n",
    "##### Title: A script For Cropping Videos Based on Timestamps\n",
    "###### By: Ernest Samuel, Team member; Data preprocessing Team\n",
    "###### Date: 05-08-2023\n",
    "\n",
    "This code is a script for cropping videos based on timestamps. It takes two input files: an Excel file containing the timestamps and a directory containing the videos to be cropped. The script first reads the Excel file and creates a Pandas DataFrame containing the timestamps. Then, it iterates through the DataFrame and crops the corresponding videos. The cropped videos are saved in the same directory as the original videos.\n",
    "\n",
    "### The key points of use of this code are:\n",
    "\n",
    "- It can be used to crop videos based on any set of timestamps.\n",
    "- It is easy to use and can be run from the command line.\n",
    "- It is efficient and can crop videos quickly.\n",
    "- Make sure to specify the path to the video you wish to crop, else, the video to be croped is to be saved in the \"videos\" folder which is the default path in this script\n",
    "\n",
    "The code is written in Python and uses the moviepy library. The moviepy library is a powerful library for working with videos in Python. It allows you to read, write, edit, and process videos.\n",
    "\n",
    "To run the code, you will need to install the *moviepy library*. You can do this by running the following command in your terminal:\n",
    "\n",
    "                pip install moviepy\n",
    "\n",
    "Once you have installed the moviepy library, you can run the code by saving it as a Python file and then running it from the command line. For example, if you saved the code as crop_video.py, you could run it by running the following command:\n",
    "\n",
    "                python crop_video.py\n",
    "                \n",
    "This will crop the videos and save them in the same directory as the original videos."
   ]
  },
  {
   "cell_type": "code",
   "execution_count": 3,
   "metadata": {},
   "outputs": [
    {
     "name": "stdout",
     "output_type": "stream",
     "text": [
      "Moviepy - Building video videos\\cropped_02_18_08_02_20_07_NSMQ2022_PRESEC_ACCRAADEMY_POPEJOHNS.mp4.\n",
      "MoviePy - Writing audio in cropped_02_18_08_02_20_07_NSMQ2022_PRESEC_ACCRAADEMY_POPEJOHNSTEMP_MPY_wvf_snd.mp3\n"
     ]
    },
    {
     "name": "stderr",
     "output_type": "stream",
     "text": [
      "                                                                      \r"
     ]
    },
    {
     "name": "stdout",
     "output_type": "stream",
     "text": [
      "MoviePy - Done.\n",
      "Moviepy - Writing video videos\\cropped_02_18_08_02_20_07_NSMQ2022_PRESEC_ACCRAADEMY_POPEJOHNS.mp4\n",
      "\n"
     ]
    },
    {
     "name": "stderr",
     "output_type": "stream",
     "text": [
      "                                                                 \r"
     ]
    },
    {
     "name": "stdout",
     "output_type": "stream",
     "text": [
      "Moviepy - Done !\n",
      "Moviepy - video ready videos\\cropped_02_18_08_02_20_07_NSMQ2022_PRESEC_ACCRAADEMY_POPEJOHNS.mp4\n",
      "MoviePy - Writing audio in videos\\audio_02_18_08_02_20_07_NSMQ2022_PRESEC_ACCRAADEMY_POPEJOHNS.mp4.wav\n"
     ]
    },
    {
     "name": "stderr",
     "output_type": "stream",
     "text": [
      "                                                                      \r"
     ]
    },
    {
     "name": "stdout",
     "output_type": "stream",
     "text": [
      "MoviePy - Done.\n",
      "Moviepy - Building video videos\\cropped_02_20_13_02_21_03_NSMQ2022_PRESEC_ACCRAADEMY_POPEJOHNS.mp4.\n",
      "MoviePy - Writing audio in cropped_02_20_13_02_21_03_NSMQ2022_PRESEC_ACCRAADEMY_POPEJOHNSTEMP_MPY_wvf_snd.mp3\n"
     ]
    },
    {
     "name": "stderr",
     "output_type": "stream",
     "text": [
      "                                                                     \r"
     ]
    },
    {
     "name": "stdout",
     "output_type": "stream",
     "text": [
      "MoviePy - Done.\n",
      "Moviepy - Writing video videos\\cropped_02_20_13_02_21_03_NSMQ2022_PRESEC_ACCRAADEMY_POPEJOHNS.mp4\n",
      "\n"
     ]
    },
    {
     "name": "stderr",
     "output_type": "stream",
     "text": [
      "                                                                 \r"
     ]
    },
    {
     "name": "stdout",
     "output_type": "stream",
     "text": [
      "Moviepy - Done !\n",
      "Moviepy - video ready videos\\cropped_02_20_13_02_21_03_NSMQ2022_PRESEC_ACCRAADEMY_POPEJOHNS.mp4\n",
      "MoviePy - Writing audio in videos\\audio_02_20_13_02_21_03_NSMQ2022_PRESEC_ACCRAADEMY_POPEJOHNS.mp4.wav\n"
     ]
    },
    {
     "name": "stderr",
     "output_type": "stream",
     "text": [
      "                                                                     \r"
     ]
    },
    {
     "name": "stdout",
     "output_type": "stream",
     "text": [
      "MoviePy - Done.\n",
      "Moviepy - Building video videos\\cropped_02_21_10_02_23_47_NSMQ2022_PRESEC_ACCRAADEMY_POPEJOHNS.mp4.\n",
      "MoviePy - Writing audio in cropped_02_21_10_02_23_47_NSMQ2022_PRESEC_ACCRAADEMY_POPEJOHNSTEMP_MPY_wvf_snd.mp3\n"
     ]
    },
    {
     "name": "stderr",
     "output_type": "stream",
     "text": [
      "                                                                      \r"
     ]
    },
    {
     "name": "stdout",
     "output_type": "stream",
     "text": [
      "MoviePy - Done.\n",
      "Moviepy - Writing video videos\\cropped_02_21_10_02_23_47_NSMQ2022_PRESEC_ACCRAADEMY_POPEJOHNS.mp4\n",
      "\n"
     ]
    },
    {
     "name": "stderr",
     "output_type": "stream",
     "text": [
      "                                                                 \r"
     ]
    },
    {
     "name": "stdout",
     "output_type": "stream",
     "text": [
      "Moviepy - Done !\n",
      "Moviepy - video ready videos\\cropped_02_21_10_02_23_47_NSMQ2022_PRESEC_ACCRAADEMY_POPEJOHNS.mp4\n",
      "MoviePy - Writing audio in videos\\audio_02_21_10_02_23_47_NSMQ2022_PRESEC_ACCRAADEMY_POPEJOHNS.mp4.wav\n"
     ]
    },
    {
     "name": "stderr",
     "output_type": "stream",
     "text": [
      "                                                                      \r"
     ]
    },
    {
     "name": "stdout",
     "output_type": "stream",
     "text": [
      "MoviePy - Done.\n",
      "Moviepy - Building video videos\\cropped_02_23_59_02_24_28_NSMQ2022_PRESEC_ACCRAADEMY_POPEJOHNS.mp4.\n",
      "MoviePy - Writing audio in cropped_02_23_59_02_24_28_NSMQ2022_PRESEC_ACCRAADEMY_POPEJOHNSTEMP_MPY_wvf_snd.mp3\n"
     ]
    },
    {
     "name": "stderr",
     "output_type": "stream",
     "text": [
      "                                                                    \r"
     ]
    },
    {
     "name": "stdout",
     "output_type": "stream",
     "text": [
      "MoviePy - Done.\n",
      "Moviepy - Writing video videos\\cropped_02_23_59_02_24_28_NSMQ2022_PRESEC_ACCRAADEMY_POPEJOHNS.mp4\n",
      "\n"
     ]
    },
    {
     "name": "stderr",
     "output_type": "stream",
     "text": [
      "                                                               \r"
     ]
    },
    {
     "name": "stdout",
     "output_type": "stream",
     "text": [
      "Moviepy - Done !\n",
      "Moviepy - video ready videos\\cropped_02_23_59_02_24_28_NSMQ2022_PRESEC_ACCRAADEMY_POPEJOHNS.mp4\n",
      "MoviePy - Writing audio in videos\\audio_02_23_59_02_24_28_NSMQ2022_PRESEC_ACCRAADEMY_POPEJOHNS.mp4.wav\n"
     ]
    },
    {
     "name": "stderr",
     "output_type": "stream",
     "text": [
      "                                                                    \r"
     ]
    },
    {
     "name": "stdout",
     "output_type": "stream",
     "text": [
      "MoviePy - Done.\n"
     ]
    },
    {
     "ename": "OSError",
     "evalue": "MoviePy error: the file videos\\NSMQ2022 PRELIMINARY STAGE _ SIMMS SHS VS AKATSI SHS VS KADJEBI-ASATO SHS.mp4 could not be found!\nPlease check that you entered the correct path.",
     "output_type": "error",
     "traceback": [
      "\u001b[1;31m---------------------------------------------------------------------------\u001b[0m",
      "\u001b[1;31mOSError\u001b[0m                                   Traceback (most recent call last)",
      "\u001b[1;32mc:\\Users\\Lenovo\\OneDrive - Ashesi University\\Desktop\\Ashesi_ETH\\Work\\Github\\nsmqai\\data-preprocessing\\crop-riddles-by-timestamp\\extract_riddle_by_timestamp.ipynb Cell 2\u001b[0m line \u001b[0;36m7\n\u001b[0;32m     <a href='vscode-notebook-cell:/c%3A/Users/Lenovo/OneDrive%20-%20Ashesi%20University/Desktop/Ashesi_ETH/Work/Github/nsmqai/data-preprocessing/crop-riddles-by-timestamp/extract_riddle_by_timestamp.ipynb#W1sZmlsZQ%3D%3D?line=68'>69</a>\u001b[0m \u001b[39mif\u001b[39;00m \u001b[39m__name__\u001b[39m \u001b[39m==\u001b[39m \u001b[39m\"\u001b[39m\u001b[39m__main__\u001b[39m\u001b[39m\"\u001b[39m:\n\u001b[0;32m     <a href='vscode-notebook-cell:/c%3A/Users/Lenovo/OneDrive%20-%20Ashesi%20University/Desktop/Ashesi_ETH/Work/Github/nsmqai/data-preprocessing/crop-riddles-by-timestamp/extract_riddle_by_timestamp.ipynb#W1sZmlsZQ%3D%3D?line=69'>70</a>\u001b[0m     excel_file \u001b[39m=\u001b[39m \u001b[39m\"\u001b[39m\u001b[39mvideoTimeStamp.csv\u001b[39m\u001b[39m\"\u001b[39m \u001b[39m# Replace with the path to your Excel file\u001b[39;00m\n\u001b[1;32m---> <a href='vscode-notebook-cell:/c%3A/Users/Lenovo/OneDrive%20-%20Ashesi%20University/Desktop/Ashesi_ETH/Work/Github/nsmqai/data-preprocessing/crop-riddles-by-timestamp/extract_riddle_by_timestamp.ipynb#W1sZmlsZQ%3D%3D?line=70'>71</a>\u001b[0m     crop_video(excel_file)\n",
      "\u001b[1;32mc:\\Users\\Lenovo\\OneDrive - Ashesi University\\Desktop\\Ashesi_ETH\\Work\\Github\\nsmqai\\data-preprocessing\\crop-riddles-by-timestamp\\extract_riddle_by_timestamp.ipynb Cell 2\u001b[0m line \u001b[0;36m5\n\u001b[0;32m     <a href='vscode-notebook-cell:/c%3A/Users/Lenovo/OneDrive%20-%20Ashesi%20University/Desktop/Ashesi_ETH/Work/Github/nsmqai/data-preprocessing/crop-riddles-by-timestamp/extract_riddle_by_timestamp.ipynb#W1sZmlsZQ%3D%3D?line=48'>49</a>\u001b[0m stop_seconds \u001b[39m=\u001b[39m time_to_seconds(stop_time)\n\u001b[0;32m     <a href='vscode-notebook-cell:/c%3A/Users/Lenovo/OneDrive%20-%20Ashesi%20University/Desktop/Ashesi_ETH/Work/Github/nsmqai/data-preprocessing/crop-riddles-by-timestamp/extract_riddle_by_timestamp.ipynb#W1sZmlsZQ%3D%3D?line=50'>51</a>\u001b[0m video_file \u001b[39m=\u001b[39m os\u001b[39m.\u001b[39mpath\u001b[39m.\u001b[39mjoin(input_file, video_name)\n\u001b[1;32m---> <a href='vscode-notebook-cell:/c%3A/Users/Lenovo/OneDrive%20-%20Ashesi%20University/Desktop/Ashesi_ETH/Work/Github/nsmqai/data-preprocessing/crop-riddles-by-timestamp/extract_riddle_by_timestamp.ipynb#W1sZmlsZQ%3D%3D?line=51'>52</a>\u001b[0m video_clip \u001b[39m=\u001b[39m VideoFileClip(video_file)\n\u001b[0;32m     <a href='vscode-notebook-cell:/c%3A/Users/Lenovo/OneDrive%20-%20Ashesi%20University/Desktop/Ashesi_ETH/Work/Github/nsmqai/data-preprocessing/crop-riddles-by-timestamp/extract_riddle_by_timestamp.ipynb#W1sZmlsZQ%3D%3D?line=52'>53</a>\u001b[0m cropped_video \u001b[39m=\u001b[39m video_clip\u001b[39m.\u001b[39msubclip(start_seconds, stop_seconds)\n\u001b[0;32m     <a href='vscode-notebook-cell:/c%3A/Users/Lenovo/OneDrive%20-%20Ashesi%20University/Desktop/Ashesi_ETH/Work/Github/nsmqai/data-preprocessing/crop-riddles-by-timestamp/extract_riddle_by_timestamp.ipynb#W1sZmlsZQ%3D%3D?line=54'>55</a>\u001b[0m output_video_filename \u001b[39m=\u001b[39m \u001b[39mf\u001b[39m\u001b[39m\"\u001b[39m\u001b[39mcropped_\u001b[39m\u001b[39m{\u001b[39;00mstart_time\u001b[39m.\u001b[39mreplace(\u001b[39m'\u001b[39m\u001b[39m:\u001b[39m\u001b[39m'\u001b[39m, \u001b[39m'\u001b[39m\u001b[39m_\u001b[39m\u001b[39m'\u001b[39m)\u001b[39m}\u001b[39;00m\u001b[39m_\u001b[39m\u001b[39m{\u001b[39;00mstop_time\u001b[39m.\u001b[39mreplace(\u001b[39m'\u001b[39m\u001b[39m:\u001b[39m\u001b[39m'\u001b[39m, \u001b[39m'\u001b[39m\u001b[39m_\u001b[39m\u001b[39m'\u001b[39m)\u001b[39m}\u001b[39;00m\u001b[39m_\u001b[39m\u001b[39m{\u001b[39;00mvideo_name\u001b[39m}\u001b[39;00m\u001b[39m\"\u001b[39m\n",
      "File \u001b[1;32mc:\\Users\\Lenovo\\anaconda3\\lib\\site-packages\\moviepy\\video\\io\\VideoFileClip.py:88\u001b[0m, in \u001b[0;36mVideoFileClip.__init__\u001b[1;34m(self, filename, has_mask, audio, audio_buffersize, target_resolution, resize_algorithm, audio_fps, audio_nbytes, verbose, fps_source)\u001b[0m\n\u001b[0;32m     86\u001b[0m \u001b[39m# Make a reader\u001b[39;00m\n\u001b[0;32m     87\u001b[0m pix_fmt \u001b[39m=\u001b[39m \u001b[39m\"\u001b[39m\u001b[39mrgba\u001b[39m\u001b[39m\"\u001b[39m \u001b[39mif\u001b[39;00m has_mask \u001b[39melse\u001b[39;00m \u001b[39m\"\u001b[39m\u001b[39mrgb24\u001b[39m\u001b[39m\"\u001b[39m\n\u001b[1;32m---> 88\u001b[0m \u001b[39mself\u001b[39m\u001b[39m.\u001b[39mreader \u001b[39m=\u001b[39m FFMPEG_VideoReader(filename, pix_fmt\u001b[39m=\u001b[39;49mpix_fmt,\n\u001b[0;32m     89\u001b[0m                                  target_resolution\u001b[39m=\u001b[39;49mtarget_resolution,\n\u001b[0;32m     90\u001b[0m                                  resize_algo\u001b[39m=\u001b[39;49mresize_algorithm,\n\u001b[0;32m     91\u001b[0m                                  fps_source\u001b[39m=\u001b[39;49mfps_source)\n\u001b[0;32m     93\u001b[0m \u001b[39m# Make some of the reader's attributes accessible from the clip\u001b[39;00m\n\u001b[0;32m     94\u001b[0m \u001b[39mself\u001b[39m\u001b[39m.\u001b[39mduration \u001b[39m=\u001b[39m \u001b[39mself\u001b[39m\u001b[39m.\u001b[39mreader\u001b[39m.\u001b[39mduration\n",
      "File \u001b[1;32mc:\\Users\\Lenovo\\anaconda3\\lib\\site-packages\\moviepy\\video\\io\\ffmpeg_reader.py:35\u001b[0m, in \u001b[0;36mFFMPEG_VideoReader.__init__\u001b[1;34m(self, filename, print_infos, bufsize, pix_fmt, check_duration, target_resolution, resize_algo, fps_source)\u001b[0m\n\u001b[0;32m     33\u001b[0m \u001b[39mself\u001b[39m\u001b[39m.\u001b[39mfilename \u001b[39m=\u001b[39m filename\n\u001b[0;32m     34\u001b[0m \u001b[39mself\u001b[39m\u001b[39m.\u001b[39mproc \u001b[39m=\u001b[39m \u001b[39mNone\u001b[39;00m\n\u001b[1;32m---> 35\u001b[0m infos \u001b[39m=\u001b[39m ffmpeg_parse_infos(filename, print_infos, check_duration,\n\u001b[0;32m     36\u001b[0m                            fps_source)\n\u001b[0;32m     37\u001b[0m \u001b[39mself\u001b[39m\u001b[39m.\u001b[39mfps \u001b[39m=\u001b[39m infos[\u001b[39m'\u001b[39m\u001b[39mvideo_fps\u001b[39m\u001b[39m'\u001b[39m]\n\u001b[0;32m     38\u001b[0m \u001b[39mself\u001b[39m\u001b[39m.\u001b[39msize \u001b[39m=\u001b[39m infos[\u001b[39m'\u001b[39m\u001b[39mvideo_size\u001b[39m\u001b[39m'\u001b[39m]\n",
      "File \u001b[1;32mc:\\Users\\Lenovo\\anaconda3\\lib\\site-packages\\moviepy\\video\\io\\ffmpeg_reader.py:270\u001b[0m, in \u001b[0;36mffmpeg_parse_infos\u001b[1;34m(filename, print_infos, check_duration, fps_source)\u001b[0m\n\u001b[0;32m    268\u001b[0m lines \u001b[39m=\u001b[39m infos\u001b[39m.\u001b[39msplitlines()\n\u001b[0;32m    269\u001b[0m \u001b[39mif\u001b[39;00m \u001b[39m\"\u001b[39m\u001b[39mNo such file or directory\u001b[39m\u001b[39m\"\u001b[39m \u001b[39min\u001b[39;00m lines[\u001b[39m-\u001b[39m\u001b[39m1\u001b[39m]:\n\u001b[1;32m--> 270\u001b[0m     \u001b[39mraise\u001b[39;00m \u001b[39mIOError\u001b[39;00m((\u001b[39m\"\u001b[39m\u001b[39mMoviePy error: the file \u001b[39m\u001b[39m%s\u001b[39;00m\u001b[39m could not be found!\u001b[39m\u001b[39m\\n\u001b[39;00m\u001b[39m\"\u001b[39m\n\u001b[0;32m    271\u001b[0m                   \u001b[39m\"\u001b[39m\u001b[39mPlease check that you entered the correct \u001b[39m\u001b[39m\"\u001b[39m\n\u001b[0;32m    272\u001b[0m                   \u001b[39m\"\u001b[39m\u001b[39mpath.\u001b[39m\u001b[39m\"\u001b[39m)\u001b[39m%\u001b[39mfilename)\n\u001b[0;32m    274\u001b[0m result \u001b[39m=\u001b[39m \u001b[39mdict\u001b[39m()\n\u001b[0;32m    277\u001b[0m \u001b[39m# get duration (in seconds)\u001b[39;00m\n",
      "\u001b[1;31mOSError\u001b[0m: MoviePy error: the file videos\\NSMQ2022 PRELIMINARY STAGE _ SIMMS SHS VS AKATSI SHS VS KADJEBI-ASATO SHS.mp4 could not be found!\nPlease check that you entered the correct path."
     ]
    }
   ],
   "source": [
    "# Install needed library if not already installed\n",
    "# pip install moviepy\n",
    "\n",
    "# Updated  06/08/2023\n",
    "from moviepy.video.io.VideoFileClip import VideoFileClip\n",
    "from datetime import datetime\n",
    "import os\n",
    "import pandas as pd\n",
    "\n",
    "def time_to_seconds(time_str):\n",
    "    \"\"\"\n",
    "    Convert a time string in the format \"HH:MM:SS\" to seconds.\n",
    "    \"\"\"\n",
    "    h, m, s = map(int, time_str.split(':'))\n",
    "    return h * 3600 + m * 60 + s\n",
    "\n",
    "def crop_video(excel_file, input_file = \"videos\"):\n",
    "    \"\"\"\n",
    "    Crop a video based on the timestamps in the specified Excel file.\n",
    "\n",
    "    Args:\n",
    "        excel_file (str): The path to the Excel file containing the timestamps.\n",
    "    \"\"\"\n",
    "    # Specify the encoding (e.g., 'utf-8', 'latin1', 'ISO-8859-1', 'cp1252', etc.)\n",
    "\n",
    "    # Try multiple encodings\n",
    "    csv_encodings = ['utf-8', 'latin1', 'ISO-8859-1']  # Add more encodings if needed\n",
    "\n",
    "    for csv_encoding in csv_encodings:\n",
    "        try:\n",
    "            video_data = pd.read_csv(excel_file, encoding=csv_encoding)\n",
    "            break  # If successful, exit the loop\n",
    "        except UnicodeDecodeError:\n",
    "            continue  # Try the next encoding if decoding fails\n",
    "\n",
    "            \n",
    "    for _, row in video_data.iterrows():\n",
    "        if not pd.isna(row['video_name']):\n",
    "\n",
    "           video_name = row['video_name']\n",
    "\n",
    "        if not pd.isna(row['start_time']):\n",
    "            \n",
    "\n",
    "            start_time = row['start_time']\n",
    "            stop_time = row['stop_time']\n",
    "\n",
    "            start_seconds = time_to_seconds(start_time)\n",
    "            stop_seconds = time_to_seconds(stop_time)\n",
    "\n",
    "            video_file = os.path.join(input_file, video_name)\n",
    "            video_clip = VideoFileClip(video_file)\n",
    "            cropped_video = video_clip.subclip(start_seconds, stop_seconds)\n",
    "\n",
    "            output_video_filename = f\"cropped_{start_time.replace(':', '_')}_{stop_time.replace(':', '_')}_{video_name}\"\n",
    "            output_audio_filename = f\"audio_{start_time.replace(':', '_')}_{stop_time.replace(':', '_')}_{video_name}.wav\"\n",
    "            \n",
    "            output_video_path = os.path.join(input_file, output_video_filename)\n",
    "            output_audio_path = os.path.join(input_file, output_audio_filename)\n",
    "\n",
    "            # Save the cropped video\n",
    "            cropped_video.write_videofile(output_video_path, codec='libx264')\n",
    "\n",
    "            # Save the audio as a .wav file\n",
    "            cropped_video.audio.write_audiofile(output_audio_path, codec='pcm_s16le')\n",
    "            cropped_video.close()  # Close the video clip to release resources\n",
    "\n",
    "# Example usage:\n",
    "if __name__ == \"__main__\":\n",
    "    excel_file = \"videoTimeStamp.csv\" # Replace with the path to your Excel file\n",
    "    crop_video(excel_file)"
   ]
  }
 ],
 "metadata": {
  "kernelspec": {
   "display_name": "base",
   "language": "python",
   "name": "python3"
  },
  "language_info": {
   "codemirror_mode": {
    "name": "ipython",
    "version": 3
   },
   "file_extension": ".py",
   "mimetype": "text/x-python",
   "name": "python",
   "nbconvert_exporter": "python",
   "pygments_lexer": "ipython3",
   "version": "3.9.16"
  },
  "orig_nbformat": 4
 },
 "nbformat": 4,
 "nbformat_minor": 2
}
