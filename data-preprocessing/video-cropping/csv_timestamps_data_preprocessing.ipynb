{
 "cells": [
  {
   "cell_type": "code",
   "execution_count": 1,
   "metadata": {},
   "outputs": [],
   "source": [
    "# Import necessary libraries\n",
    "import pandas as pd"
   ]
  },
  {
   "cell_type": "code",
   "execution_count": null,
   "metadata": {},
   "outputs": [],
   "source": [
    "\n",
    "#-------------------------------------------------------------------------------------------------------------------------------------------------#\n",
    "\n",
    "#------------------------------------------------------------ Data Cleaning global  functions------------------------------------------------------------------------#\n",
    "# Function to convert time string to seconds\n",
    "def remove_unwanted_char(csv_file):\n",
    "    df = pd.read_csv(csv_file, encoding='ISO-8859-1')\n",
    "\n",
    "    # Remove unwanted characters using regular expressions\n",
    "    df['video_correct_naming'] = df['video_name'].dropna().apply(lambda x: re.sub(r'[’\\'\"\\-,\\\\s]', '', x))\n",
    "\n",
    "    # Check if the filename has changed\n",
    "    if  df['video_correct_naming'] != df['video_name']:\n",
    "        print(f'The following video naming convention have been updated! \\n')\n",
    "        print(f'------------------------------------------ \\n')\n",
    "        print(df['video_name'], \"\\n\\n\")\n",
    "        df['video_name'] = df['video_correct_naming']\n",
    "        print(f'------------------------------------------ \\n')\n",
    "\n",
    "    else:\n",
    "        print(f'The video names are in proper naming convention!')\n",
    "        print(f'------------------------------------------ \\n\\n')\n",
    "    # Save the modified DataFrame back to the CSV file with the same encoding\n",
    "    df.to_csv(csv_file, index=False, encoding='ISO-8859-1')\n",
    "\n",
    "\n",
    "# Function to convert time string to seconds\n",
    "def time_to_seconds(time_str):\n",
    "    \"\"\"\n",
    "    Convert a time string in the format \"HH:MM:SS\" to seconds.\n",
    "    \"\"\"\n",
    "    parts = time_str.split(':')\n",
    "    h, m = map(int, parts[:2])\n",
    "    s = int(parts[2]) if len(parts) == 3 else 0\n",
    "\n",
    "    return h * 3600 + m * 60 + s\n"
   ]
  },
  {
   "cell_type": "code",
   "execution_count": null,
   "metadata": {},
   "outputs": [],
   "source": [
    "#-------------------------------------------------------------------------------------------------------------------------------------------------#\n",
    "\n",
    "#---------------------------------------------------- Main Script:: Time stamp validation of the csv file  ------------------------------------------------------------------------#\n",
    "\n",
    "\n",
    "# Function to Validate time stamp\n",
    "def time_stamp_CSV_File_validation(excel_file,start,stop):\n",
    "    \"\"\"\n",
    "     Clean the video naming convention and Check if the time stamp of the stop time is greater than the start time for the cropping\n",
    "    \"\"\"\n",
    "     # Try multiple encodings\n",
    "    csv_encodings = ['utf-8', 'latin1', 'ISO-8859-1']  # Add more encodings if needed\n",
    "\n",
    "\n",
    "    #clean and update video naming convention\n",
    "    print(\"Videos naming convention cleaning and Validation\\n\")\n",
    "    print(\"------------------------------------------------\\n\")\n",
    "    \n",
    "    remove_unwanted_char(excel_file)\n",
    "    print(\"------------------------------------------------\\n\")\n",
    "    print(\"------------------------------------------------\\n\\n\")\n",
    "    print(\"--------------Timestamp Validation--------------\\n\\n\")\n",
    "\n",
    "# Validation of timestamps \n",
    "    for csv_encoding in csv_encodings:\n",
    "        try:\n",
    "            video_data = pd.read_csv(excel_file, encoding=csv_encoding)\n",
    "            break  # If successful, exit the loop\n",
    "        except UnicodeDecodeError:\n",
    "            continue  # Try the next encoding if decoding fails\n",
    "\n",
    "    for _, row in video_data.iterrows():\n",
    "        if not pd.isna(row['video_name']):\n",
    "            # this helps to change video names if one video have multiple timestamp\n",
    "            video_name = row['video_name']+str(\".mp4\")\n",
    "            path_name = row['video_name']\n",
    "\n",
    "        if not pd.isna(row[start]):\n",
    "            start_time = row[start]\n",
    "            stop_time = row[stop]\n",
    "\n",
    "\n",
    "            start_seconds = time_to_seconds(start_time)\n",
    "            stop_seconds = time_to_seconds(stop_time)\n",
    "            if (start_seconds>stop_seconds):\n",
    "                print(f'incorect time stamp for: {path_name} ')\n",
    "            else:\n",
    "                print(f'stop time: {stop_time} is OK!')\n",
    "    return 'Check completed!'"
   ]
  },
  {
   "cell_type": "code",
   "execution_count": null,
   "metadata": {},
   "outputs": [],
   "source": [
    "excel_file = \"/content/drive/MyDrive/NSMQ AI Project/Data Curation/Videos/2019_2020/testing_file.csv\"  # Replace with the path to your Excel file\n",
    "\n",
    "start = 'start_time'\n",
    "stop = 'stop_time'\n",
    "time_stamp_validation(excel_file,start,stop)"
   ]
  }
 ],
 "metadata": {
  "kernelspec": {
   "display_name": "base",
   "language": "python",
   "name": "python3"
  },
  "language_info": {
   "codemirror_mode": {
    "name": "ipython",
    "version": 3
   },
   "file_extension": ".py",
   "mimetype": "text/x-python",
   "name": "python",
   "nbconvert_exporter": "python",
   "pygments_lexer": "ipython3",
   "version": "3.9.16"
  }
 },
 "nbformat": 4,
 "nbformat_minor": 2
}
